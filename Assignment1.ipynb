{
  "cells": [
    {
      "cell_type": "markdown",
      "id": "5feff8e9-3664-4e8e-84f9-745e2e52e858",
      "metadata": {
        "id": "5feff8e9-3664-4e8e-84f9-745e2e52e858"
      },
      "source": [
        "Q1. Create one variable containing following type of data:"
      ]
    },
    {
      "cell_type": "markdown",
      "id": "23e0ef85-1083-4492-ab18-b75e012c52a0",
      "metadata": {
        "id": "23e0ef85-1083-4492-ab18-b75e012c52a0"
      },
      "source": [
        "(i) string"
      ]
    },
    {
      "cell_type": "code",
      "execution_count": null,
      "id": "ca74eefa-29ed-4070-aa6e-10046f097ffa",
      "metadata": {
        "id": "ca74eefa-29ed-4070-aa6e-10046f097ffa",
        "outputId": "47705a55-2979-4c7a-abbd-331a61f116fb"
      },
      "outputs": [
        {
          "data": {
            "text/plain": [
              "str"
            ]
          },
          "execution_count": 2,
          "metadata": {},
          "output_type": "execute_result"
        }
      ],
      "source": [
        "s='pwskills'\n",
        "type(s)"
      ]
    },
    {
      "cell_type": "markdown",
      "id": "dea3529d-fce1-4633-995a-bb88227fe46e",
      "metadata": {
        "id": "dea3529d-fce1-4633-995a-bb88227fe46e"
      },
      "source": [
        "(ii) list"
      ]
    },
    {
      "cell_type": "code",
      "execution_count": null,
      "id": "05c489fc-e141-4b7a-8bc9-6ef408d6a361",
      "metadata": {
        "jupyter": {
          "outputs_hidden": true
        },
        "tags": [],
        "id": "05c489fc-e141-4b7a-8bc9-6ef408d6a361",
        "outputId": "29955e94-6014-4c6d-c251-9e3c5a570679"
      },
      "outputs": [
        {
          "data": {
            "text/plain": [
              "list"
            ]
          },
          "execution_count": 3,
          "metadata": {},
          "output_type": "execute_result"
        }
      ],
      "source": [
        "l=[1,True,43,'ak',34.65]\n",
        "type(l)"
      ]
    },
    {
      "cell_type": "markdown",
      "id": "8ba59c04-72aa-489f-af45-80b4e404ce28",
      "metadata": {
        "id": "8ba59c04-72aa-489f-af45-80b4e404ce28"
      },
      "source": [
        "(iii) float"
      ]
    },
    {
      "cell_type": "code",
      "execution_count": null,
      "id": "5ce09d03-3d21-4a17-bbd6-8aea8102e157",
      "metadata": {
        "id": "5ce09d03-3d21-4a17-bbd6-8aea8102e157",
        "outputId": "2c1a2bf6-2f91-4d6a-b811-db49c1a9d41d"
      },
      "outputs": [
        {
          "data": {
            "text/plain": [
              "float"
            ]
          },
          "execution_count": 4,
          "metadata": {},
          "output_type": "execute_result"
        }
      ],
      "source": [
        "f=94774.326547\n",
        "type(f)"
      ]
    },
    {
      "cell_type": "markdown",
      "id": "029ef05b-cfd2-48cd-a41d-b8e3887f26e5",
      "metadata": {
        "id": "029ef05b-cfd2-48cd-a41d-b8e3887f26e5"
      },
      "source": [
        "(iv) tuple"
      ]
    },
    {
      "cell_type": "code",
      "execution_count": null,
      "id": "88e089be-f751-44e1-b734-d566545aadae",
      "metadata": {
        "id": "88e089be-f751-44e1-b734-d566545aadae",
        "outputId": "753ef8bb-6aee-48b4-f351-817dd1a127ef"
      },
      "outputs": [
        {
          "data": {
            "text/plain": [
              "tuple"
            ]
          },
          "execution_count": 5,
          "metadata": {},
          "output_type": "execute_result"
        }
      ],
      "source": [
        "t=('ram','shyam',6)\n",
        "type(t)"
      ]
    },
    {
      "cell_type": "markdown",
      "id": "7f682b2f-602f-4520-ae28-5e1e01f4e3a3",
      "metadata": {
        "id": "7f682b2f-602f-4520-ae28-5e1e01f4e3a3"
      },
      "source": [
        "Q2. Given are some following variables containing data:\n",
        "(i) var1 = ‘ ‘\n",
        "(ii) var2 = ‘[ DS , ML , Python]’\n",
        "(iii) var3 = [ ‘DS’ , ’ML’ , ‘Python’ ]\n",
        "(iv) var4 = 1.\n",
        "What will be the data type of the above given variable."
      ]
    },
    {
      "cell_type": "code",
      "execution_count": null,
      "id": "912264f8-663f-4dc4-b8a5-44d4f5b0c22a",
      "metadata": {
        "id": "912264f8-663f-4dc4-b8a5-44d4f5b0c22a"
      },
      "outputs": [],
      "source": [
        "var1 = ''\n",
        "var2 = '[ DS , ML , Python]'\n",
        "var3 = [ 'DS' , 'ML' , 'Python' ]\n",
        "var4 = 1."
      ]
    },
    {
      "cell_type": "code",
      "execution_count": null,
      "id": "bfc66587-1b6e-4a56-94d1-ecaf97d0c1c9",
      "metadata": {
        "id": "bfc66587-1b6e-4a56-94d1-ecaf97d0c1c9",
        "outputId": "7d723d49-88f8-451a-a96d-ee4096db2d01"
      },
      "outputs": [
        {
          "data": {
            "text/plain": [
              "str"
            ]
          },
          "execution_count": 12,
          "metadata": {},
          "output_type": "execute_result"
        }
      ],
      "source": [
        "type(var1)"
      ]
    },
    {
      "cell_type": "code",
      "execution_count": null,
      "id": "adb19d9a-6deb-43cd-a6fe-cea7ead4b14e",
      "metadata": {
        "id": "adb19d9a-6deb-43cd-a6fe-cea7ead4b14e",
        "outputId": "ece55f08-90b4-43d1-bb83-92b337087916"
      },
      "outputs": [
        {
          "data": {
            "text/plain": [
              "str"
            ]
          },
          "execution_count": 13,
          "metadata": {},
          "output_type": "execute_result"
        }
      ],
      "source": [
        "type(var2)"
      ]
    },
    {
      "cell_type": "code",
      "execution_count": null,
      "id": "03ad4e32-8498-46d2-ae0d-533ffbc2e6c5",
      "metadata": {
        "id": "03ad4e32-8498-46d2-ae0d-533ffbc2e6c5",
        "outputId": "7686d6fe-ab55-4d8c-d965-57ca626269bd"
      },
      "outputs": [
        {
          "data": {
            "text/plain": [
              "list"
            ]
          },
          "execution_count": 14,
          "metadata": {},
          "output_type": "execute_result"
        }
      ],
      "source": [
        "type(var3)"
      ]
    },
    {
      "cell_type": "code",
      "execution_count": null,
      "id": "ff444c38-16f6-4f67-a96e-6bcd8d743a4b",
      "metadata": {
        "id": "ff444c38-16f6-4f67-a96e-6bcd8d743a4b",
        "outputId": "ac298596-68ee-49bc-a1b7-234b1b542fd0"
      },
      "outputs": [
        {
          "data": {
            "text/plain": [
              "float"
            ]
          },
          "execution_count": 15,
          "metadata": {},
          "output_type": "execute_result"
        }
      ],
      "source": [
        "type(var4)"
      ]
    },
    {
      "cell_type": "markdown",
      "id": "25457200-fde1-43d7-a55d-2ce96aeedaa6",
      "metadata": {
        "id": "25457200-fde1-43d7-a55d-2ce96aeedaa6"
      },
      "source": [
        "Q3. Explain the use of the following operators using an example:\n",
        "(i) /\n",
        "(ii) %\n",
        "(iii) //\n",
        "(iv) **"
      ]
    },
    {
      "cell_type": "code",
      "execution_count": null,
      "id": "9084c078-7767-4034-9a94-3ff97bca602d",
      "metadata": {
        "id": "9084c078-7767-4034-9a94-3ff97bca602d",
        "outputId": "33665324-1560-4b79-8845-b7e71ce4cbe8"
      },
      "outputs": [
        {
          "data": {
            "text/plain": [
              "11.1"
            ]
          },
          "execution_count": 21,
          "metadata": {},
          "output_type": "execute_result"
        }
      ],
      "source": [
        "55.50/5 #return the quotient with float value"
      ]
    },
    {
      "cell_type": "code",
      "execution_count": null,
      "id": "7ac4404b-5112-43dd-97be-5a20c9b5c3df",
      "metadata": {
        "id": "7ac4404b-5112-43dd-97be-5a20c9b5c3df",
        "outputId": "78bfdb02-cc93-4460-c42e-a48f1f250ec8"
      },
      "outputs": [
        {
          "data": {
            "text/plain": [
              "4"
            ]
          },
          "execution_count": 17,
          "metadata": {},
          "output_type": "execute_result"
        }
      ],
      "source": [
        "64%10 #return the remainder"
      ]
    },
    {
      "cell_type": "code",
      "execution_count": null,
      "id": "8b392faa-03d1-4d29-bcd1-9dc2a513411c",
      "metadata": {
        "id": "8b392faa-03d1-4d29-bcd1-9dc2a513411c",
        "outputId": "ade965f9-73e4-4050-a6a3-483f424fc316"
      },
      "outputs": [
        {
          "data": {
            "text/plain": [
              "11.0"
            ]
          },
          "execution_count": 22,
          "metadata": {},
          "output_type": "execute_result"
        }
      ],
      "source": [
        "55.65//5 #return the quotient with decimal value"
      ]
    },
    {
      "cell_type": "code",
      "execution_count": null,
      "id": "69b58897-ba9c-4894-bb78-50546d7e0152",
      "metadata": {
        "id": "69b58897-ba9c-4894-bb78-50546d7e0152",
        "outputId": "f9a1e70f-c53c-4288-f424-57e89b7ee25c"
      },
      "outputs": [
        {
          "data": {
            "text/plain": [
              "16"
            ]
          },
          "execution_count": 19,
          "metadata": {},
          "output_type": "execute_result"
        }
      ],
      "source": [
        "4**2 #power function"
      ]
    },
    {
      "cell_type": "markdown",
      "id": "2d1765e0-c536-43e8-beaf-e82625e18839",
      "metadata": {
        "id": "2d1765e0-c536-43e8-beaf-e82625e18839"
      },
      "source": [
        "Q4. Create a list of length 10 of your choice containing multiple types of data. Using for loop print the element and its data type."
      ]
    },
    {
      "cell_type": "code",
      "execution_count": null,
      "id": "fe002669-5057-4d72-b08d-849889547f04",
      "metadata": {
        "id": "fe002669-5057-4d72-b08d-849889547f04"
      },
      "outputs": [],
      "source": [
        "l=[3,8,'ajay','bjay',False,36.21,96,'sujay','jay',True]"
      ]
    },
    {
      "cell_type": "code",
      "execution_count": null,
      "id": "34db59aa-7884-43d4-a43b-f3ed6a7587f7",
      "metadata": {
        "id": "34db59aa-7884-43d4-a43b-f3ed6a7587f7",
        "outputId": "f2caea74-8f2d-4152-bf70-1102a3b277d1"
      },
      "outputs": [
        {
          "name": "stdout",
          "output_type": "stream",
          "text": [
            "3\n",
            "<class 'int'>\n",
            "8\n",
            "<class 'int'>\n",
            "ajay\n",
            "<class 'str'>\n",
            "bjay\n",
            "<class 'str'>\n",
            "False\n",
            "<class 'bool'>\n",
            "36.21\n",
            "<class 'float'>\n",
            "96\n",
            "<class 'int'>\n",
            "sujay\n",
            "<class 'str'>\n",
            "jay\n",
            "<class 'str'>\n",
            "True\n",
            "<class 'bool'>\n"
          ]
        }
      ],
      "source": [
        "for i in l:\n",
        "    print(i)\n",
        "    print(type(i))"
      ]
    },
    {
      "cell_type": "markdown",
      "id": "f734804c-235b-464e-bffb-ae59e54cab8a",
      "metadata": {
        "id": "f734804c-235b-464e-bffb-ae59e54cab8a"
      },
      "source": [
        "Q5. Using a while loop, verify if the number A is purely divisible by number B and if so then how many times it can be divisible."
      ]
    },
    {
      "cell_type": "code",
      "execution_count": 32,
      "id": "d542dce0-a8a7-4908-971c-c5b4fef6b877",
      "metadata": {
        "colab": {
          "base_uri": "https://localhost:8080/"
        },
        "id": "d542dce0-a8a7-4908-971c-c5b4fef6b877",
        "outputId": "1a3a505f-808b-482d-c5c9-e203dddf8e59"
      },
      "outputs": [
        {
          "output_type": "stream",
          "name": "stdout",
          "text": [
            "84  is divisible by  2\n",
            "divided result  42.0\n",
            "42.0  is divisible by  2\n",
            "divided result  21.0\n",
            "21.0  is not divisible by  2\n",
            "2 th many times the number can be divisible\n"
          ]
        }
      ],
      "source": [
        "a=84\n",
        "b=2\n",
        "c=0\n",
        "while a>=b:\n",
        "  if a%b == 0:\n",
        "    print(a,' is divisible by ',b)\n",
        "    div = a/b\n",
        "    if div > 0:\n",
        "      a = div\n",
        "      print('divided result ', div)\n",
        "      c = c+1\n",
        "    else:\n",
        "      print(c)\n",
        "    continue\n",
        "  else:\n",
        "    print(a,' is not divisible by ',b)\n",
        "    break\n",
        "  continue\n",
        "print(c,' many times the number can be divisible')"
      ]
    },
    {
      "cell_type": "markdown",
      "id": "8edddd60-9980-4bbb-8724-15d6546a8948",
      "metadata": {
        "id": "8edddd60-9980-4bbb-8724-15d6546a8948"
      },
      "source": [
        "Q6. Create a list containing 25 int type data. Using for loop and if-else condition print if the element is divisible by 3 or not."
      ]
    },
    {
      "cell_type": "code",
      "execution_count": null,
      "id": "f0537798-6cd0-4a64-82fd-4b755c2f3a91",
      "metadata": {
        "id": "f0537798-6cd0-4a64-82fd-4b755c2f3a91"
      },
      "outputs": [],
      "source": [
        "ln=[12,96,25,65,97,14,31,10,80,700,378,241,20,19,45,31,87,78,254,963,741,852,987,654,321]"
      ]
    },
    {
      "cell_type": "code",
      "execution_count": null,
      "id": "e5afada9-8856-4581-942e-3fe58249c11c",
      "metadata": {
        "id": "e5afada9-8856-4581-942e-3fe58249c11c",
        "outputId": "e5aad877-22b8-405d-96bf-a7bd005060f1"
      },
      "outputs": [
        {
          "name": "stdout",
          "output_type": "stream",
          "text": [
            "12  is divisible by 3\n",
            "96  is divisible by 3\n",
            "25  is not divisible by 3\n",
            "65  is not divisible by 3\n",
            "97  is not divisible by 3\n",
            "14  is not divisible by 3\n",
            "31  is not divisible by 3\n",
            "10  is not divisible by 3\n",
            "80  is not divisible by 3\n",
            "700  is not divisible by 3\n",
            "378  is divisible by 3\n",
            "241  is not divisible by 3\n",
            "20  is not divisible by 3\n",
            "19  is not divisible by 3\n",
            "45  is divisible by 3\n",
            "31  is not divisible by 3\n",
            "87  is divisible by 3\n",
            "78  is divisible by 3\n",
            "254  is not divisible by 3\n",
            "963  is divisible by 3\n",
            "741  is divisible by 3\n",
            "852  is divisible by 3\n",
            "987  is divisible by 3\n",
            "654  is divisible by 3\n",
            "321  is divisible by 3\n"
          ]
        }
      ],
      "source": [
        "for i in ln:\n",
        "    if i%3 == 0:\n",
        "        print(i,' is divisible by 3')\n",
        "    else:\n",
        "        print(i,' is not divisible by 3')"
      ]
    },
    {
      "cell_type": "markdown",
      "id": "ef185150-7cca-4f16-96c9-729a1de77858",
      "metadata": {
        "id": "ef185150-7cca-4f16-96c9-729a1de77858"
      },
      "source": [
        "Q7. What do you understand about mutable and immutable data types? Give examples for both showing this property."
      ]
    },
    {
      "cell_type": "markdown",
      "id": "44ce9b58-bf56-4f93-92bc-82ec6b4705f5",
      "metadata": {
        "id": "44ce9b58-bf56-4f93-92bc-82ec6b4705f5"
      },
      "source": [
        "mutable : In which data types, we can access and modify the value or data by their indexing, are called mutable data types.\n",
        "ex: list\n",
        "immutable : In which data types, we can only access the value or data by their indexing but cannot modify, are called immutable data types.\n",
        "ex: string"
      ]
    },
    {
      "cell_type": "code",
      "execution_count": 33,
      "id": "b3d39873-4dbc-4f7f-b7bd-ee9c131cb72b",
      "metadata": {
        "id": "b3d39873-4dbc-4f7f-b7bd-ee9c131cb72b"
      },
      "outputs": [],
      "source": [
        "li=[52,True,9.03,'ak']"
      ]
    },
    {
      "cell_type": "code",
      "execution_count": 34,
      "id": "b5d6a443-b7cd-45b5-84c0-ebe4a9158e8e",
      "metadata": {
        "colab": {
          "base_uri": "https://localhost:8080/",
          "height": 35
        },
        "id": "b5d6a443-b7cd-45b5-84c0-ebe4a9158e8e",
        "outputId": "bea7eafd-d669-4566-b658-07426ba7c335"
      },
      "outputs": [
        {
          "output_type": "execute_result",
          "data": {
            "text/plain": [
              "'ak'"
            ],
            "application/vnd.google.colaboratory.intrinsic+json": {
              "type": "string"
            }
          },
          "metadata": {},
          "execution_count": 34
        }
      ],
      "source": [
        "li[3]"
      ]
    },
    {
      "cell_type": "code",
      "execution_count": 35,
      "id": "a8b42212-c1c5-4c78-a3d3-bf8b12ffc185",
      "metadata": {
        "id": "a8b42212-c1c5-4c78-a3d3-bf8b12ffc185"
      },
      "outputs": [],
      "source": [
        "li[3]='soumi'"
      ]
    },
    {
      "cell_type": "code",
      "execution_count": 36,
      "id": "1ca572c6-eb0a-4c3f-b2d4-12ae784e72da",
      "metadata": {
        "colab": {
          "base_uri": "https://localhost:8080/"
        },
        "id": "1ca572c6-eb0a-4c3f-b2d4-12ae784e72da",
        "outputId": "4e68473f-d945-42a2-a126-39a28b9b47cc"
      },
      "outputs": [
        {
          "output_type": "execute_result",
          "data": {
            "text/plain": [
              "[52, True, 9.03, 'soumi']"
            ]
          },
          "metadata": {},
          "execution_count": 36
        }
      ],
      "source": [
        "li #mutable property"
      ]
    },
    {
      "cell_type": "code",
      "execution_count": 37,
      "id": "c9f590c3-bb1e-4fed-9fd1-beb3f94d6720",
      "metadata": {
        "id": "c9f590c3-bb1e-4fed-9fd1-beb3f94d6720"
      },
      "outputs": [],
      "source": [
        "st='soumi'"
      ]
    },
    {
      "cell_type": "code",
      "execution_count": 38,
      "id": "1e5a0424-9fa7-4a19-969d-f0402a7a82a6",
      "metadata": {
        "colab": {
          "base_uri": "https://localhost:8080/",
          "height": 35
        },
        "id": "1e5a0424-9fa7-4a19-969d-f0402a7a82a6",
        "outputId": "6c622458-cc0c-4406-aa80-e967c6cde604"
      },
      "outputs": [
        {
          "output_type": "execute_result",
          "data": {
            "text/plain": [
              "'o'"
            ],
            "application/vnd.google.colaboratory.intrinsic+json": {
              "type": "string"
            }
          },
          "metadata": {},
          "execution_count": 38
        }
      ],
      "source": [
        "st[1]"
      ]
    },
    {
      "cell_type": "code",
      "execution_count": 39,
      "id": "aa858e50-8b44-4205-a53f-3fe9d750bfcc",
      "metadata": {
        "colab": {
          "base_uri": "https://localhost:8080/",
          "height": 178
        },
        "id": "aa858e50-8b44-4205-a53f-3fe9d750bfcc",
        "outputId": "d08baa26-f72d-4b55-b84c-1ce5718f0a50"
      },
      "outputs": [
        {
          "output_type": "error",
          "ename": "TypeError",
          "evalue": "ignored",
          "traceback": [
            "\u001b[0;31m---------------------------------------------------------------------------\u001b[0m",
            "\u001b[0;31mTypeError\u001b[0m                                 Traceback (most recent call last)",
            "\u001b[0;32m<ipython-input-39-2f014a6605f9>\u001b[0m in \u001b[0;36m<cell line: 1>\u001b[0;34m()\u001b[0m\n\u001b[0;32m----> 1\u001b[0;31m \u001b[0mst\u001b[0m\u001b[0;34m[\u001b[0m\u001b[0;36m1\u001b[0m\u001b[0;34m]\u001b[0m\u001b[0;34m=\u001b[0m\u001b[0;34m'a'\u001b[0m\u001b[0;31m#immutable property\u001b[0m\u001b[0;34m\u001b[0m\u001b[0;34m\u001b[0m\u001b[0m\n\u001b[0m",
            "\u001b[0;31mTypeError\u001b[0m: 'str' object does not support item assignment"
          ]
        }
      ],
      "source": [
        "st[1]='a'#immutable property"
      ]
    },
    {
      "cell_type": "code",
      "execution_count": null,
      "id": "f25feb65-e356-46ba-8a8e-e37dab9455a1",
      "metadata": {
        "id": "f25feb65-e356-46ba-8a8e-e37dab9455a1"
      },
      "outputs": [],
      "source": []
    }
  ],
  "metadata": {
    "kernelspec": {
      "display_name": "Python 3 (ipykernel)",
      "language": "python",
      "name": "python3"
    },
    "language_info": {
      "codemirror_mode": {
        "name": "ipython",
        "version": 3
      },
      "file_extension": ".py",
      "mimetype": "text/x-python",
      "name": "python",
      "nbconvert_exporter": "python",
      "pygments_lexer": "ipython3",
      "version": "3.10.8"
    },
    "colab": {
      "provenance": []
    }
  },
  "nbformat": 4,
  "nbformat_minor": 5
}